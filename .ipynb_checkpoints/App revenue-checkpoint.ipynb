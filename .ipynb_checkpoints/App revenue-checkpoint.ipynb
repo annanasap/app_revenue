{
 "cells": [
  {
   "cell_type": "markdown",
   "metadata": {},
   "source": [
    "# App revenue\n",
    "\n",
    "In this project we will analyse data on app engagement to understand what type of apps are more likely to attract more users on Google play and the App Store.\n",
    "\n",
    "To do this, we will analyse data about mobile apps available on Google play and the App Store."
   ]
  },
  {
   "cell_type": "code",
   "execution_count": 1,
   "metadata": {},
   "outputs": [],
   "source": [
    "from csv import reader\n",
    "\n",
    "## The Apple dataset ##\n",
    "opened_file = open('AppStoreData.csv')\n",
    "read_file = reader(opened_file)\n",
    "ios = list(read_file)\n",
    "ios_header = ios[0]\n",
    "ios = ios[1:]\n",
    "\n",
    "## The Google Play dataset ##\n",
    "opened_file = open('googleplaystore.csv')\n",
    "read_file = reader(opened_file)\n",
    "google = list(read_file)\n",
    "google_header = google[0]\n",
    "google = ios[1:]"
   ]
  },
  {
   "cell_type": "markdown",
   "metadata": {},
   "source": [
    "**Function**\n",
    "The function explore_data() below slices the dataset and loops through the slice, whereby it prints a row and adds a new line after that row for each iteration. Also, it prints the number of rows and columns if True."
   ]
  },
  {
   "cell_type": "code",
   "execution_count": 2,
   "metadata": {},
   "outputs": [],
   "source": [
    "def explore_data(dataset, start, end, rows_and_columns = False):\n",
    "    dataset_slice = dataset[start:end]\n",
    "    \n",
    "    for row in dataset_slice:\n",
    "        print(row)\n",
    "        print('\\n') #new, empty line after each row\n",
    "        \n",
    "        if rows_and_columns:\n",
    "            print('Number of rows:', len(dataset))\n",
    "            print('Number of columns:', len(dataset[0]))\n",
    "    "
   ]
  },
  {
   "cell_type": "code",
   "execution_count": 3,
   "metadata": {},
   "outputs": [
    {
     "ename": "TypeError",
     "evalue": "explore_data() missing 2 required positional arguments: 'start' and 'end'",
     "output_type": "error",
     "traceback": [
      "\u001b[0;31m---------------------------------------------------------------------------\u001b[0m",
      "\u001b[0;31mTypeError\u001b[0m                                 Traceback (most recent call last)",
      "\u001b[0;32m<ipython-input-3-258798fd6460>\u001b[0m in \u001b[0;36m<module>\u001b[0;34m\u001b[0m\n\u001b[0;32m----> 1\u001b[0;31m \u001b[0mexplore_data\u001b[0m\u001b[0;34m(\u001b[0m\u001b[0mios\u001b[0m\u001b[0;34m)\u001b[0m\u001b[0;34m\u001b[0m\u001b[0m\n\u001b[0m",
      "\u001b[0;31mTypeError\u001b[0m: explore_data() missing 2 required positional arguments: 'start' and 'end'"
     ]
    }
   ],
   "source": [
    "explore_data(ios, )"
   ]
  }
 ],
 "metadata": {
  "kernelspec": {
   "display_name": "Python 3",
   "language": "python",
   "name": "python3"
  },
  "language_info": {
   "codemirror_mode": {
    "name": "ipython",
    "version": 3
   },
   "file_extension": ".py",
   "mimetype": "text/x-python",
   "name": "python",
   "nbconvert_exporter": "python",
   "pygments_lexer": "ipython3",
   "version": "3.6.3"
  }
 },
 "nbformat": 4,
 "nbformat_minor": 2
}
